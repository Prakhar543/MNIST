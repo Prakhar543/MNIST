{
 "cells": [
  {
   "cell_type": "code",
   "execution_count": 3,
   "metadata": {},
   "outputs": [],
   "source": [
    "import numpy as np\n",
    "import matplotlib.pyplot as plt\n",
    "import pandas as pd\n",
    "\n",
    "train_set = pd.read_csv('mnist_train.csv')\n",
    "test_set = pd.read_csv('mnist_test.csv')\n",
    "\n",
    "train_Y = np.array(train_set['label'])\n",
    "train_X = np.array(train_set.iloc[:, 1:])\n",
    "test_Y = np.array(test_set['label'])\n",
    "test_X = np.array(test_set.iloc[:, 1:])\n",
    "\n",
    "test_X = test_X/255\n",
    "train_X = train_X/255\n",
    "# plt.imshow(test_X[0].reshape(28,28))"
   ]
  },
  {
   "cell_type": "code",
   "execution_count": 4,
   "metadata": {},
   "outputs": [],
   "source": [
    "def init_params(m):\n",
    "    W1 = np.random.randn(m, 784)*np.sqrt(1./m)\n",
    "    W2 = np.random.randn(10, m)*np.sqrt(1./10)\n",
    "    return W1, W2\n",
    "\n",
    "def relu(X, derivative=False):\n",
    "    if derivative:\n",
    "        return X>0\n",
    "    return np.maximum(0, X)\n",
    "\n",
    "def softmax(x, derivative=False):\n",
    "    exps = np.exp(x-x.max())\n",
    "    if derivative:\n",
    "        return exps/np.sum(exps, axis=0) * (1-exps/np.sum(exps, axis=0))\n",
    "    return (exps)/np.sum(exps, axis=0)\n",
    "    # print(np.exp(X), np.sum(np.exp(X)))\n",
    "\n",
    "def forward_pass(X, W1, W2):\n",
    "    Z1 = np.dot(W1, X) \n",
    "    A1 = relu(Z1)\n",
    "    Z2 = np.dot(W2, A1) \n",
    "    A2 = softmax(Z2)\n",
    "    return A2, A1, Z1, Z2\n",
    "\n",
    "def back_pass(A2, A1, Y, X, W2, Z1):\n",
    "    one_hot_Y = np.zeros(10, dtype=int)\n",
    "    one_hot_Y[Y] = 1\n",
    "    dZ2 = 2*(A2 - one_hot_Y)/(A2.shape[0])*softmax(A2, derivative=True)\n",
    "    dW2 = np.outer(dZ2, A1)\n",
    "    dZ1 = 2*np.dot(W2.T, dZ2)*relu(Z1, derivative=True)\n",
    "    dW1 = np.outer(dZ1, X)\n",
    "    return dW2, dW1\n",
    "\n",
    "def update(dW1, dW2, W1, W2, lr):\n",
    "    W2 = W2 - lr*dW2\n",
    "    W1 = W1 - lr*dW1\n",
    "    return W1, W2\n"
   ]
  },
  {
   "cell_type": "code",
   "execution_count": 5,
   "metadata": {},
   "outputs": [],
   "source": [
    "def compute_accuracy(W1, W2):\n",
    "    acc = []\n",
    "    for (j, k) in zip(test_X, test_Y):\n",
    "        A2, A1, Z1, Z2 = forward_pass(j, W1, W2)\n",
    "        acc.append(np.argmax(A2) == k)\n",
    "    return np.sum(acc)/len(acc)\n",
    "\n",
    "def train(train_X, train_Y, lr, iterations):\n",
    "    W1, W2 = init_params(256)\n",
    "    for i in range(iterations):\n",
    "        # np.random.shuffle(train_X)\n",
    "        # np.random.shuffle(train_Y)\n",
    "        for (j, k) in zip(train_X, train_Y):\n",
    "            A2, A1, Z1, Z2 = forward_pass(j, W1, W2)\n",
    "            dW2, dW1 = back_pass(A2, A1, k, j, W2, Z1)\n",
    "            W1, W2 = update(dW1, dW2, W1, W2, lr)\n",
    "        print(compute_accuracy(W1, W2))\n",
    "        \n",
    "    return W1, W2\n",
    "\n",
    "    \n"
   ]
  },
  {
   "cell_type": "code",
   "execution_count": 8,
   "metadata": {},
   "outputs": [
    {
     "name": "stdout",
     "output_type": "stream",
     "text": [
      "0.93\n"
     ]
    }
   ],
   "source": [
    "W1, W2 = train(train_X, train_Y, 0.01, 1)"
   ]
  },
  {
   "cell_type": "code",
   "execution_count": 9,
   "metadata": {},
   "outputs": [
    {
     "name": "stdout",
     "output_type": "stream",
     "text": [
      "4\n",
      "4\n"
     ]
    },
    {
     "data": {
      "text/plain": [
       "<matplotlib.image.AxesImage at 0x7f7cf8111220>"
      ]
     },
     "execution_count": 9,
     "metadata": {},
     "output_type": "execute_result"
    },
    {
     "data": {
      "image/png": "[encoded data removed]",
      "text/plain": [
       "<Figure size 640x480 with 1 Axes>"
      ]
     },
     "metadata": {},
     "output_type": "display_data"
    }
   ],
   "source": [
    "X = test_X[8484].reshape(28,28)\n",
    "a, b, c, d = forward_pass(test_X[8484], W1, W2)\n",
    "print(np.argmax(a))\n",
    "print(test_Y[8484])\n",
    "plt.imshow(X, cmap='gray')"
   ]
  },
  {
   "cell_type": "code",
   "execution_count": null,
   "metadata": {},
   "outputs": [
    {
     "name": "stdout",
     "output_type": "stream",
     "text": [
      "None\n"
     ]
    }
   ],
   "source": [
    "train_X = np.random.shuffle(train_X)\n",
    "train_Y = np.random.shuffle(train_Y)\n",
    "print(train_Y)"
   ]
  },
  {
   "cell_type": "code",
   "execution_count": null,
   "metadata": {},
   "outputs": [],
   "source": []
  }
 ],
 "metadata": {
  "kernelspec": {
   "display_name": "base",
   "language": "python",
   "name": "python3"
  },
  "language_info": {
   "codemirror_mode": {
    "name": "ipython",
    "version": 3
   },
   "file_extension": ".py",
   "mimetype": "text/x-python",
   "name": "python",
   "nbconvert_exporter": "python",
   "pygments_lexer": "ipython3",
   "version": "3.9.13"
  },
  "orig_nbformat": 4,
  "vscode": {
   "interpreter": {
    "hash": "f26de51df59427c38eab8bacdc675f1064591d3e54a1fe9973f75eb44d52d8ce"
   }
  }
 },
 "nbformat": 4,
 "nbformat_minor": 2
}
